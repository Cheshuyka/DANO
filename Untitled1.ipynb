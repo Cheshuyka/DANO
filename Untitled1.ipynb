{
 "cells": [
  {
   "cell_type": "code",
   "execution_count": 1,
   "id": "f4076acd",
   "metadata": {},
   "outputs": [],
   "source": [
    "%matplotlib inline\n",
    "import pandas as pd\n",
    "import matplotlib.pyplot as plt\n",
    "import seaborn as sns"
   ]
  },
  {
   "cell_type": "code",
   "execution_count": 2,
   "id": "beefb448",
   "metadata": {},
   "outputs": [],
   "source": [
    "pd.set_option('display.max_columns', None)\n",
    "df = pd.read_csv('cashback.csv')"
   ]
  },
  {
   "cell_type": "code",
   "execution_count": null,
   "id": "30a9eab1",
   "metadata": {},
   "outputs": [],
   "source": [
    "acts = df.loc[:, 'act_pharmacy':'act_rent_car']\n",
    "df1 = pd.DataFrame(columns=acts.columns)\n",
    "for i in range(0, 59821, 6):\n",
    "    act = acts.iloc[i:i + 6].sum(axis=0)\n",
    "    df1.loc[-1] = act\n",
    "    df1.index += 1\n",
    "df1 = df1.sort_index()"
   ]
  },
  {
   "cell_type": "code",
   "execution_count": null,
   "id": "f0d56255",
   "metadata": {},
   "outputs": [],
   "source": [
    "for i in df1.columns:\n",
    "    print(f'{i}: {len(df1[(2 <= df1[i]) & (df1[i] <= 4)])}')"
   ]
  },
  {
   "cell_type": "code",
   "execution_count": null,
   "id": "8d888dd2",
   "metadata": {},
   "outputs": [],
   "source": []
  }
 ],
 "metadata": {
  "kernelspec": {
   "display_name": "Python 3 (ipykernel)",
   "language": "python",
   "name": "python3"
  },
  "language_info": {
   "codemirror_mode": {
    "name": "ipython",
    "version": 3
   },
   "file_extension": ".py",
   "mimetype": "text/x-python",
   "name": "python",
   "nbconvert_exporter": "python",
   "pygments_lexer": "ipython3",
   "version": "3.7.6"
  }
 },
 "nbformat": 4,
 "nbformat_minor": 5
}
